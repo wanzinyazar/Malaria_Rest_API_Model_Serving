{
 "cells": [
  {
   "cell_type": "code",
   "execution_count": 1,
   "metadata": {},
   "outputs": [
    {
     "name": "stdout",
     "output_type": "stream",
     "text": [
      "/Users/wanzin\r\n"
     ]
    }
   ],
   "source": [
    "!pwd\n"
   ]
  },
  {
   "cell_type": "code",
   "execution_count": 2,
   "metadata": {},
   "outputs": [
    {
     "name": "stdout",
     "output_type": "stream",
     "text": [
      "/Users/wanzin/Downloads/dl_medical_image\n"
     ]
    }
   ],
   "source": [
    "cd /Users/wanzin/downloads/dl_medical_image\n"
   ]
  },
  {
   "cell_type": "code",
   "execution_count": 3,
   "metadata": {},
   "outputs": [
    {
     "name": "stdout",
     "output_type": "stream",
     "text": [
      "a train_model.h5\n"
     ]
    }
   ],
   "source": [
    "!tar -zcvf train_model.tgz train_model.h5"
   ]
  },
  {
   "cell_type": "code",
   "execution_count": 4,
   "metadata": {},
   "outputs": [
    {
     "name": "stdout",
     "output_type": "stream",
     "text": [
      "total 218840\r\n",
      "-rw-r--r--@ 1 wanzin  staff   8670043 May 25 01:05 Malaria.mlmodel\r\n",
      "-rw-r--r--  1 wanzin  staff        38 May 15 23:25 README.md\r\n",
      "-rw-r--r--@ 1 wanzin  staff       201 Jun  2 20:58 android.py\r\n",
      "-rw-r--r--@ 1 wanzin  staff      1890 Jun  3 20:22 build_dataset.py\r\n",
      "-rw-r--r--@ 1 wanzin  staff       145 Jun  3 18:13 check.py\r\n",
      "-rw-r--r--@ 1 wanzin  staff   8620592 Jun  8 15:08 converted_model.tflite\r\n",
      "-rw-r--r--@ 1 wanzin  staff       421 May 25 02:07 coremlconverter.py\r\n",
      "drwxr-xr-x  3 wanzin  staff        96 May 29 23:58 \u001b[34mios\u001b[m\u001b[m\r\n",
      "-rw-r--r--  1 wanzin  staff         0 May 24 17:23 lb.pickle\r\n",
      "-rw-r--r--@ 1 wanzin  staff      2629 May 24 17:11 load_model.py\r\n",
      "drwxr-xr-x  7 wanzin  staff       224 Jun  3 20:16 \u001b[34mmalaria\u001b[m\u001b[m\r\n",
      "-rw-r--r--@ 1 wanzin  staff    765717 May 27 22:57 ok.jpg\r\n",
      "-rw-r--r--@ 1 wanzin  staff     24358 Jun  7 00:58 plot.png\r\n",
      "drwxr-xr-x@ 7 wanzin  staff       224 Feb 15 00:45 \u001b[34mpyimagesearch\u001b[m\u001b[m\r\n",
      "-rw-r--r--@ 1 wanzin  staff  17711968 Jun  7 00:58 train_model.h5\r\n",
      "-rw-r--r--  1 wanzin  staff  16046804 Apr 11 20:31 train_model.h5.zip\r\n",
      "-rw-r--r--@ 1 wanzin  staff   8670043 May 24 17:58 train_model.mlmodel\r\n",
      "-rw-r--r--@ 1 wanzin  staff  17711968 May 24 17:23 train_model.model\r\n",
      "-rw-r--r--@ 1 wanzin  staff  17711968 Mar 24 21:07 train_model.model.h5\r\n",
      "-rw-r--r--@ 1 wanzin  staff      4319 Jun 29 13:51 train_model.py\r\n",
      "-rw-r--r--  1 wanzin  staff  16057811 Jul  7 21:39 train_model.tgz\r\n",
      "-rw-r--r--  1 wanzin  staff       761 Jul  7 02:07 zin.py\r\n"
     ]
    }
   ],
   "source": [
    "!ls -l\n"
   ]
  },
  {
   "cell_type": "code",
   "execution_count": 5,
   "metadata": {},
   "outputs": [],
   "source": [
    "# Create a Watson Machine Learning client instance\n",
    "from watson_machine_learning_client import WatsonMachineLearningAPIClient\n",
    "wml_credentials = {\n",
    "    \"apikey\"    : \"i2xzr3QtHkfny2iekPlN5T0-qONn4qkHYSUaUPU0tG0F\",\n",
    "    \"instance_id\" : \"455fe1c1-4c6d-4ead-aa98-fee55eb73129\",\n",
    "    \"url\"    : \"https://us-south.ml.cloud.ibm.com\"\n",
    "}\n",
    "client = WatsonMachineLearningAPIClient( wml_credentials )"
   ]
  },
  {
   "cell_type": "code",
   "execution_count": 6,
   "metadata": {},
   "outputs": [],
   "source": [
    "metadata = {\n",
    "    client.repository.ModelMetaNames.NAME: \"keras model\",\n",
    "    client.repository.ModelMetaNames.FRAMEWORK_NAME: \"tensorflow\",\n",
    "    client.repository.ModelMetaNames.FRAMEWORK_VERSION: \"1.5\",\n",
    "    client.repository.ModelMetaNames.FRAMEWORK_LIBRARIES: [{'name':'keras', 'version': '2.2.4'}]}\n",
    "model_details = client.repository.store_model( model=\"train_model.tgz\", meta_props=metadata )"
   ]
  },
  {
   "cell_type": "code",
   "execution_count": 7,
   "metadata": {},
   "outputs": [
    {
     "name": "stdout",
     "output_type": "stream",
     "text": [
      "\n",
      "\n",
      "#######################################################################################\n",
      "\n",
      "Synchronous deployment creation for uid: '787f2705-1757-4988-82a8-01f249c9f937' started\n",
      "\n",
      "#######################################################################################\n",
      "\n",
      "\n",
      "INITIALIZING\n",
      "DEPLOY_IN_PROGRESS.....\n",
      "DEPLOY_SUCCESS\n",
      "\n",
      "\n",
      "------------------------------------------------------------------------------------------------\n",
      "Successfully finished deployment creation, deployment_uid='8ea6ffd9-1d0f-45ad-a346-3039f5c2f107'\n",
      "------------------------------------------------------------------------------------------------\n",
      "\n",
      "\n"
     ]
    }
   ],
   "source": [
    "model_id = model_details[\"metadata\"][\"guid\"]\n",
    "deployment_details = client.deployments.create( artifact_uid=model_id, name=\"Keras deployment\" )"
   ]
  },
  {
   "cell_type": "code",
   "execution_count": 8,
   "metadata": {},
   "outputs": [
    {
     "name": "stdout",
     "output_type": "stream",
     "text": [
      "{'metadata': {'guid': '787f2705-1757-4988-82a8-01f249c9f937', 'url': 'https://us-south.ml.cloud.ibm.com/v3/wml_instances/455fe1c1-4c6d-4ead-aa98-fee55eb73129/published_models/787f2705-1757-4988-82a8-01f249c9f937', 'created_at': '2019-07-08T04:39:55.175Z', 'modified_at': '2019-07-08T04:39:55.230Z'}, 'entity': {'runtime_environment': 'None Provided', 'learning_configuration_url': 'https://us-south.ml.cloud.ibm.com/v3/wml_instances/455fe1c1-4c6d-4ead-aa98-fee55eb73129/published_models/787f2705-1757-4988-82a8-01f249c9f937/learning_configuration', 'name': 'keras model', 'learning_iterations_url': 'https://us-south.ml.cloud.ibm.com/v3/wml_instances/455fe1c1-4c6d-4ead-aa98-fee55eb73129/published_models/787f2705-1757-4988-82a8-01f249c9f937/learning_iterations', 'feedback_url': 'https://us-south.ml.cloud.ibm.com/v3/wml_instances/455fe1c1-4c6d-4ead-aa98-fee55eb73129/published_models/787f2705-1757-4988-82a8-01f249c9f937/feedback', 'latest_version': {'url': 'https://us-south.ml.cloud.ibm.com/v3/ml_assets/models/787f2705-1757-4988-82a8-01f249c9f937/versions/66f4cf99-6ee4-4754-8182-a68a08a31278', 'guid': '66f4cf99-6ee4-4754-8182-a68a08a31278', 'created_at': '2019-07-08T04:39:55.230Z'}, 'model_type': 'tensorflow-1.5', 'deployments': {'count': 0, 'url': 'https://us-south.ml.cloud.ibm.com/v3/wml_instances/455fe1c1-4c6d-4ead-aa98-fee55eb73129/published_models/787f2705-1757-4988-82a8-01f249c9f937/deployments'}, 'evaluation_metrics_url': 'https://us-south.ml.cloud.ibm.com/v3/wml_instances/455fe1c1-4c6d-4ead-aa98-fee55eb73129/published_models/787f2705-1757-4988-82a8-01f249c9f937/evaluation_metrics'}}\n"
     ]
    }
   ],
   "source": [
    "print(model_details)"
   ]
  },
  {
   "cell_type": "code",
   "execution_count": 9,
   "metadata": {},
   "outputs": [
    {
     "name": "stdout",
     "output_type": "stream",
     "text": [
      "\n",
      "\n",
      "#######################################################################################\n",
      "\n",
      "Synchronous deployment creation for uid: '787f2705-1757-4988-82a8-01f249c9f937' started\n",
      "\n",
      "#######################################################################################\n",
      "\n",
      "\n",
      "INITIALIZING\n",
      "DEPLOY_IN_PROGRESS.....\n",
      "DEPLOY_SUCCESS\n",
      "\n",
      "\n",
      "------------------------------------------------------------------------------------------------\n",
      "Successfully finished deployment creation, deployment_uid='0fa20023-9c58-4f11-9dea-f5934ebe398c'\n",
      "------------------------------------------------------------------------------------------------\n",
      "\n",
      "\n"
     ]
    }
   ],
   "source": [
    "model_deployment_details = client.deployments.create( artifact_uid=model_id, name=\"ucb_malaria_model\" )"
   ]
  },
  {
   "cell_type": "code",
   "execution_count": 10,
   "metadata": {},
   "outputs": [
    {
     "name": "stdout",
     "output_type": "stream",
     "text": [
      "{'metadata': {'guid': '0fa20023-9c58-4f11-9dea-f5934ebe398c', 'url': 'https://us-south.ml.cloud.ibm.com/v3/wml_instances/455fe1c1-4c6d-4ead-aa98-fee55eb73129/deployments/0fa20023-9c58-4f11-9dea-f5934ebe398c', 'created_at': '2019-07-08T04:41:44.591Z', 'modified_at': '2019-07-08T04:41:44.904Z'}, 'entity': {'runtime_environment': 'None Provided', 'name': 'ucb_malaria_model', 'scoring_url': 'https://us-south.ml.cloud.ibm.com/v3/wml_instances/455fe1c1-4c6d-4ead-aa98-fee55eb73129/deployments/0fa20023-9c58-4f11-9dea-f5934ebe398c/online', 'deployable_asset': {'name': 'keras model', 'url': 'https://us-south.ml.cloud.ibm.com/v3/wml_instances/455fe1c1-4c6d-4ead-aa98-fee55eb73129/published_models/787f2705-1757-4988-82a8-01f249c9f937', 'guid': '787f2705-1757-4988-82a8-01f249c9f937', 'created_at': '2019-07-08T04:40:24.114Z', 'type': 'model'}, 'description': 'Description of deployment', 'status_details': {'status': 'DEPLOY_SUCCESS'}, 'model_type': 'tensorflow-1.5', 'status': 'DEPLOY_SUCCESS', 'type': 'online', 'deployed_version': {'url': 'https://us-south.ml.cloud.ibm.com/v3/ml_assets/models/787f2705-1757-4988-82a8-01f249c9f937/versions/66f4cf99-6ee4-4754-8182-a68a08a31278', 'guid': '66f4cf99-6ee4-4754-8182-a68a08a31278'}}}\n"
     ]
    }
   ],
   "source": [
    "print(model_deployment_details)"
   ]
  },
  {
   "cell_type": "code",
   "execution_count": 11,
   "metadata": {},
   "outputs": [
    {
     "name": "stdout",
     "output_type": "stream",
     "text": [
      "------------------------------------  -----------------  ------  --------------  ------------------------  --------------  -------------\n",
      "GUID                                  NAME               TYPE    STATE           CREATED                   FRAMEWORK       ARTIFACT TYPE\n",
      "0fa20023-9c58-4f11-9dea-f5934ebe398c  ucb_malaria_model  online  DEPLOY_SUCCESS  2019-07-08T04:41:44.591Z  tensorflow-1.5  model\n",
      "8ea6ffd9-1d0f-45ad-a346-3039f5c2f107  Keras deployment   online  DEPLOY_SUCCESS  2019-07-08T04:40:24.138Z  tensorflow-1.5  model\n",
      "ad0d5026-6e9d-4780-b6a1-72bad5222e24  ucb_malaria_model  online  DEPLOY_SUCCESS  2019-07-07T09:19:05.722Z  tensorflow-1.5  model\n",
      "2be8c283-33df-4db0-a4d8-b9d9aa617158  Keras deployment   online  DEPLOY_SUCCESS  2019-07-07T08:59:27.183Z  tensorflow-1.5  model\n",
      "f362eedf-c718-41f8-8cb1-b5da98dc6b3c  Keras deployment   online  DEPLOY_FAILURE  2019-07-07T08:57:28.802Z  tensorflow-1.5  model\n",
      "------------------------------------  -----------------  ------  --------------  ------------------------  --------------  -------------\n"
     ]
    }
   ],
   "source": [
    "client.deployments.list(\n",
    ")"
   ]
  },
  {
   "cell_type": "code",
   "execution_count": null,
   "metadata": {},
   "outputs": [],
   "source": []
  }
 ],
 "metadata": {
  "kernelspec": {
   "display_name": "Python 3",
   "language": "python",
   "name": "python3"
  },
  "language_info": {
   "codemirror_mode": {
    "name": "ipython",
    "version": 3
   },
   "file_extension": ".py",
   "mimetype": "text/x-python",
   "name": "python",
   "nbconvert_exporter": "python",
   "pygments_lexer": "ipython3",
   "version": "3.7.1"
  }
 },
 "nbformat": 4,
 "nbformat_minor": 2
}
